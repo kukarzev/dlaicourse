{
 "cells": [
  {
   "cell_type": "markdown",
   "metadata": {
    "colab_type": "text",
    "id": "tOoyQ70H00_s"
   },
   "source": [
    "## Exercise 2\n",
    "In the course you learned how to do classification using Fashion MNIST, a data set containing items of clothing. There's another, similar dataset called MNIST which has items of handwriting -- the digits 0 through 9.\n",
    "\n",
    "Write an MNIST classifier that trains to 99% accuracy or above, and does it without a fixed number of epochs -- i.e. you should stop training once you reach that level of accuracy.\n",
    "\n",
    "Some notes:\n",
    "1. It should succeed in less than 10 epochs, so it is okay to change epochs to 10, but nothing larger\n",
    "2. When it reaches 99% or greater it should print out the string \"Reached 99% accuracy so cancelling training!\"\n",
    "3. If you add any additional variables, make sure you use the same names as the ones used in the class\n",
    "\n",
    "I've started the code for you below -- how would you finish it? "
   ]
  },
  {
   "cell_type": "code",
   "execution_count": 49,
   "metadata": {
    "colab": {},
    "colab_type": "code",
    "id": "9rvXQGAA0ssC"
   },
   "outputs": [],
   "source": [
    "# YOUR CODE SHOULD START HERE\n",
    "import numpy as np\n",
    "# YOUR CODE SHOULD END HERE\n",
    "import tensorflow as tf\n",
    "mnist = tf.keras.datasets.mnist\n",
    "\n",
    "(x_train, y_train),(x_test, y_test) = mnist.load_data()\n",
    "# YOUR CODE SHOULD START HERE\n",
    "_norm = np.max(x_train)\n",
    "x_train = x_train / _norm\n",
    "x_test = x_test / _norm"
   ]
  },
  {
   "cell_type": "code",
   "execution_count": 52,
   "metadata": {
    "colab": {},
    "colab_type": "code",
    "id": "9rvXQGAA0ssC",
    "scrolled": false
   },
   "outputs": [
    {
     "name": "stdout",
     "output_type": "stream",
     "text": [
      "Train on 60000 samples\n",
      "Epoch 1/10\n",
      "59904/60000 [============================>.] - ETA: 0s - loss: 0.2008 - accuracy: 0.9402\n",
      "Accuracy: 0.9401500225067139, not precise enough\n",
      "60000/60000 [==============================] - 9s 148us/sample - loss: 0.2008 - accuracy: 0.9402\n",
      "Epoch 2/10\n",
      "59840/60000 [============================>.] - ETA: 0s - loss: 0.0801 - accuracy: 0.9761\n",
      "Accuracy: 0.9761666655540466, not precise enough\n",
      "60000/60000 [==============================] - 8s 139us/sample - loss: 0.0800 - accuracy: 0.9762\n",
      "Epoch 3/10\n",
      "59904/60000 [============================>.] - ETA: 0s - loss: 0.0519 - accuracy: 0.9840\n",
      "Accuracy: 0.9839166402816772, not precise enough\n",
      "60000/60000 [==============================] - 9s 150us/sample - loss: 0.0520 - accuracy: 0.9839\n",
      "Epoch 4/10\n",
      "59808/60000 [============================>.] - ETA: 0s - loss: 0.0366 - accuracy: 0.9884\n",
      "Accuracy: 0.9883999824523926, not precise enough\n",
      "60000/60000 [==============================] - 9s 144us/sample - loss: 0.0366 - accuracy: 0.9884\n",
      "Epoch 5/10\n",
      "59712/60000 [============================>.] - ETA: 0s - loss: 0.0268 - accuracy: 0.9914Reached 99% accuracy so cancelling training!\n",
      "60000/60000 [==============================] - 9s 150us/sample - loss: 0.0269 - accuracy: 0.9914\n",
      "10000/1 - 1s - loss: 0.0335 - accuracy: 0.9813\n"
     ]
    },
    {
     "data": {
      "text/plain": [
       "[0.06674152260742267, 0.9813]"
      ]
     },
     "execution_count": 52,
     "metadata": {},
     "output_type": "execute_result"
    }
   ],
   "source": [
    "# YOUR CODE SHOULD END HERE\n",
    "model = tf.keras.models.Sequential([\n",
    "# YOUR CODE SHOULD START HERE\n",
    "    tf.keras.layers.Flatten(input_shape=(28,28)),\n",
    "    tf.keras.layers.Dense(500,activation=tf.nn.relu),\n",
    "    tf.keras.layers.Dense(10,activation=tf.nn.softmax)\n",
    "# YOUR CODE SHOULD END HERE\n",
    "])\n",
    "\n",
    "model.compile(optimizer='adam',\n",
    "              loss='sparse_categorical_crossentropy',\n",
    "              metrics=['accuracy'])\n",
    "\n",
    "# YOUR CODE SHOULD START HERE\n",
    "class EarlyStopCallback(tf.keras.callbacks.Callback):\n",
    "    def on_epoch_end(self, epoch, logs={}):\n",
    "        if logs[\"accuracy\"]<0.99:\n",
    "            print(\"\\nAccuracy: {}, not precise enough\".format(logs[\"accuracy\"]))\n",
    "        else:\n",
    "            print(\"Reached 99% accuracy so cancelling training!\")\n",
    "            self.model.stop_training=True\n",
    "\n",
    "model.fit(x_train,y_train,epochs=10,callbacks=[EarlyStopCallback()])\n",
    "model.evaluate(x_test,y_test,verbose=2)\n",
    "# YOUR CODE SHOULD END HERE"
   ]
  }
 ],
 "metadata": {
  "colab": {
   "collapsed_sections": [],
   "name": "Exercise2-Question.ipynb",
   "provenance": [],
   "version": "0.3.2"
  },
  "kernelspec": {
   "display_name": "Python 3",
   "language": "python",
   "name": "python3"
  },
  "language_info": {
   "codemirror_mode": {
    "name": "ipython",
    "version": 3
   },
   "file_extension": ".py",
   "mimetype": "text/x-python",
   "name": "python",
   "nbconvert_exporter": "python",
   "pygments_lexer": "ipython3",
   "version": "3.6.7"
  }
 },
 "nbformat": 4,
 "nbformat_minor": 1
}
